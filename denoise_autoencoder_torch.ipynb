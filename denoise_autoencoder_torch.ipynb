{
  "cells": [
    {
      "cell_type": "markdown",
      "metadata": {
        "id": "wA4OQ_3ZxfXl"
      },
      "source": [
        "# Autoencoders for denoising\n",
        "This is another example of using an autoencoder but where we are using it as a method for removing noise from images."
      ]
    },
    {
      "cell_type": "code",
      "execution_count": 55,
      "metadata": {
        "id": "vvSr90MBQDFo"
      },
      "outputs": [],
      "source": [
        "%matplotlib inline\n",
        "import torch\n",
        "from torch import nn\n",
        "from torch.utils.data import DataLoader, Dataset\n",
        "from torchvision import datasets, transforms\n",
        "import matplotlib.pyplot as plt"
      ]
    },
    {
      "cell_type": "code",
      "execution_count": 56,
      "metadata": {
        "colab": {
          "base_uri": "https://localhost:8080/"
        },
        "id": "yga_FlRQQDFs",
        "outputId": "570319e5-0ed3-4ae2-bb82-842f1aafe570"
      },
      "outputs": [
        {
          "output_type": "stream",
          "name": "stdout",
          "text": [
            "Using cuda\n"
          ]
        }
      ],
      "source": [
        "device = torch.device(\"cuda\" if torch.cuda.is_available() else \"cpu\")\n",
        "print(f\"Using {device}\")"
      ]
    },
    {
      "cell_type": "markdown",
      "metadata": {
        "id": "GgNasQTUxfXp"
      },
      "source": [
        "Let's load the MNIST dataset"
      ]
    },
    {
      "cell_type": "code",
      "execution_count": 57,
      "metadata": {
        "id": "i8XvY4NOQDFt"
      },
      "outputs": [],
      "source": [
        "train_data = datasets.MNIST(root='./data', train=True, download=True, transform=transforms.ToTensor())\n",
        "test_data = datasets.MNIST(root='./data', train=False, download=True, transform=transforms.ToTensor())"
      ]
    },
    {
      "cell_type": "markdown",
      "metadata": {
        "id": "2JDyEkcxxfXp"
      },
      "source": [
        "Now we are building our autoencoder. It is composed by an encoder and a decoder, in this case CNNs which turns out to be pretty good for computer vision. Also note that they are symmetric."
      ]
    },
    {
      "cell_type": "code",
      "execution_count": 58,
      "metadata": {
        "id": "YwlyOs5MQDFu"
      },
      "outputs": [],
      "source": [
        "class Autoencoder(nn.Module):\n",
        "    def __init__(self) -> None:\n",
        "        super().__init__()\n",
        "        self.encoder = nn.Sequential(\n",
        "            nn.Conv2d(1, 3, 3, stride=2, padding=1),\n",
        "            nn.ReLU(),\n",
        "            nn.Conv2d(3, 6, 3, stride=2, padding=1),\n",
        "            nn.ReLU(),\n",
        "            nn.Conv2d(6, 12, 3, stride=2, padding=1),\n",
        "            nn.ReLU(),\n",
        "            nn.Conv2d(12, 24, 3, stride=2, padding=1),\n",
        "            nn.ReLU()  \n",
        "        )\n",
        "        \n",
        "        self.decoder = nn.Sequential(\n",
        "            nn.ConvTranspose2d(24, 12, 3, stride=2, padding=1, output_padding=1),\n",
        "            nn.ReLU(),\n",
        "            nn.ConvTranspose2d(12, 6, 3, stride=2, padding=1, output_padding=1),\n",
        "            nn.ReLU(),\n",
        "            nn.ConvTranspose2d(6, 3, 3, stride=2, padding=1, output_padding=1),\n",
        "            nn.ReLU(),\n",
        "            nn.ConvTranspose2d(3, 1, 3, stride=2, padding=1, output_padding=1),\n",
        "            nn.Sigmoid()\n",
        "        )\n",
        "    def forward(self, x):\n",
        "        encoded = self.encoder(x)\n",
        "        decoded = self.decoder(encoded)\n",
        "        return decoded"
      ]
    },
    {
      "cell_type": "code",
      "execution_count": 59,
      "metadata": {
        "colab": {
          "base_uri": "https://localhost:8080/"
        },
        "id": "Ocpaf-gDQDFu",
        "outputId": "f9bd711c-0682-4dda-f2d6-b0095fac8490"
      },
      "outputs": [
        {
          "output_type": "stream",
          "name": "stdout",
          "text": [
            "Autoencoder(\n",
            "  (encoder): Sequential(\n",
            "    (0): Conv2d(1, 3, kernel_size=(3, 3), stride=(2, 2), padding=(1, 1))\n",
            "    (1): ReLU()\n",
            "    (2): Conv2d(3, 6, kernel_size=(3, 3), stride=(2, 2), padding=(1, 1))\n",
            "    (3): ReLU()\n",
            "    (4): Conv2d(6, 12, kernel_size=(3, 3), stride=(2, 2), padding=(1, 1))\n",
            "    (5): ReLU()\n",
            "    (6): Conv2d(12, 24, kernel_size=(3, 3), stride=(2, 2), padding=(1, 1))\n",
            "    (7): ReLU()\n",
            "  )\n",
            "  (decoder): Sequential(\n",
            "    (0): ConvTranspose2d(24, 12, kernel_size=(3, 3), stride=(2, 2), padding=(1, 1), output_padding=(1, 1))\n",
            "    (1): ReLU()\n",
            "    (2): ConvTranspose2d(12, 6, kernel_size=(3, 3), stride=(2, 2), padding=(1, 1), output_padding=(1, 1))\n",
            "    (3): ReLU()\n",
            "    (4): ConvTranspose2d(6, 3, kernel_size=(3, 3), stride=(2, 2), padding=(1, 1), output_padding=(1, 1))\n",
            "    (5): ReLU()\n",
            "    (6): ConvTranspose2d(3, 1, kernel_size=(3, 3), stride=(2, 2), padding=(1, 1), output_padding=(1, 1))\n",
            "    (7): Sigmoid()\n",
            "  )\n",
            ")\n"
          ]
        }
      ],
      "source": [
        "model = Autoencoder().to(device)\n",
        "print(model)"
      ]
    },
    {
      "cell_type": "markdown",
      "metadata": {
        "id": "lhR8PH8ixfXq"
      },
      "source": [
        "This function will add noise to our images, in this case we will use an uniform distribution."
      ]
    },
    {
      "cell_type": "code",
      "source": [
        "def noisy_img(img, batch_size):\n",
        "  return 0.4*img + 0.6*torch.rand(batch_size, 1, 28, 28).to(device)"
      ],
      "metadata": {
        "id": "7bttG2JK00Mb"
      },
      "execution_count": 60,
      "outputs": []
    },
    {
      "cell_type": "markdown",
      "source": [
        "Let's prepare for training, we will use MSE as our loss function and Adam as optimizer algorithm. The training is a typical training loop in pytorch."
      ],
      "metadata": {
        "id": "pMWplQvW4py-"
      }
    },
    {
      "cell_type": "code",
      "execution_count": 61,
      "metadata": {
        "id": "GVkkFearQDFx"
      },
      "outputs": [],
      "source": [
        "loss_fn = nn.MSELoss()\n",
        "optimizer = torch.optim.Adam(model.parameters(), lr=1e-3, weight_decay=1e-5)"
      ]
    },
    {
      "cell_type": "code",
      "execution_count": 62,
      "metadata": {
        "colab": {
          "base_uri": "https://localhost:8080/"
        },
        "id": "X_zho9zFQDFx",
        "outputId": "756e59e3-1bdc-4b32-969e-e168abec1add"
      },
      "outputs": [
        {
          "output_type": "stream",
          "name": "stdout",
          "text": [
            "Epoch:1, Loss:0.0706\n",
            "Epoch:2, Loss:0.0595\n",
            "Epoch:3, Loss:0.0553\n",
            "Epoch:4, Loss:0.0483\n",
            "Epoch:5, Loss:0.0425\n",
            "Epoch:6, Loss:0.0327\n",
            "Epoch:7, Loss:0.0306\n",
            "Epoch:8, Loss:0.0261\n",
            "Epoch:9, Loss:0.0238\n",
            "Epoch:10, Loss:0.0222\n"
          ]
        }
      ],
      "source": [
        "epochs = 10\n",
        "batch_size = 64\n",
        "train_loader = DataLoader(train_data, batch_size=batch_size, shuffle=True)\n",
        "test_loader = DataLoader(test_data, batch_size=batch_size, shuffle=False)\n",
        "\n",
        "for epoch in range(epochs):\n",
        "    for data in train_loader:\n",
        "        img, _ = data\n",
        "        img = img.to(device)\n",
        "        noisy = noisy_img(img, img.size()[0])\n",
        "        recon = model(noisy)\n",
        "        recon = transforms.functional.crop(recon, 1, 1, 28, 28)\n",
        "        loss = loss_fn(recon, img)\n",
        "        \n",
        "        optimizer.zero_grad()\n",
        "        loss.backward()\n",
        "        optimizer.step()\n",
        "        \n",
        "    print(f'Epoch:{epoch+1}, Loss:{loss.item():.4f}')"
      ]
    },
    {
      "cell_type": "markdown",
      "metadata": {
        "id": "v4ibD2eoxfXq"
      },
      "source": [
        "Let's see some reconstructed images to see how well it did."
      ]
    },
    {
      "cell_type": "code",
      "execution_count": 65,
      "metadata": {
        "colab": {
          "base_uri": "https://localhost:8080/",
          "height": 407
        },
        "id": "xD9UWiLGQDFy",
        "outputId": "789dff6d-7a36-4ff9-948d-a1dee9c5570d"
      },
      "outputs": [
        {
          "output_type": "display_data",
          "data": {
            "text/plain": [
              "<Figure size 1000x500 with 10 Axes>"
            ],
            "image/png": "[encoded data removed]"
          },
          "metadata": {}
        }
      ],
      "source": [
        "plt.figure(figsize=(10, 5))\n",
        "for i in range(5):\n",
        "    img, _ = test_data[i]\n",
        "    img = img.to(device)\n",
        "    noisy = noisy_img(img, 1)\n",
        "    recon = model(noisy)\n",
        "    recon = transforms.functional.crop(recon, 1, 1, 28, 28)\n",
        "    recon = recon.squeeze().cpu().detach().numpy()\n",
        "    plt.subplot(2, 5, i+1)\n",
        "    plt.imshow(recon, cmap='gray')\n",
        "    plt.subplot(2, 5, i+6)\n",
        "    plt.imshow(noisy.squeeze().cpu().detach().numpy(), cmap='gray')"
      ]
    }
  ],
  "metadata": {
    "accelerator": "GPU",
    "colab": {
      "gpuType": "T4",
      "provenance": []
    },
    "kernelspec": {
      "display_name": "Python 3",
      "name": "python3"
    },
    "language_info": {
      "codemirror_mode": {
        "name": "ipython",
        "version": 3
      },
      "file_extension": ".py",
      "mimetype": "text/x-python",
      "name": "python",
      "nbconvert_exporter": "python",
      "pygments_lexer": "ipython3",
      "version": "3.10.9"
    },
    "orig_nbformat": 4
  },
  "nbformat": 4,
  "nbformat_minor": 0
}